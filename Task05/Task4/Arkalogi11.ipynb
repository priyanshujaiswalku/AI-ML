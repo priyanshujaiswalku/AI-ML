{
 "cells": [
  {
   "cell_type": "code",
   "execution_count": 1,
   "id": "5aa3829d",
   "metadata": {},
   "outputs": [],
   "source": [
    "from flask import Flask, request, jsonify\n",
    "import yfinance as yf\n",
    "import pandas as pd\n",
    "from datetime import datetime, timedelta\n"
   ]
  },
  {
   "cell_type": "code",
   "execution_count": 2,
   "id": "1e670842",
   "metadata": {},
   "outputs": [],
   "source": [
    "app = Flask(__name__)"
   ]
  },
  {
   "cell_type": "code",
   "execution_count": 6,
   "id": "082ac274",
   "metadata": {},
   "outputs": [],
   "source": [
    "nifty_50_stocks = [\n",
    "    'RELIANCE.NS', 'TCS.NS', 'INFY.NS', 'SBIN.NS', 'ITC.NS',\n",
    "    'TATAMOTORS.NS', 'TATAPOWER.NS', 'HDFCBANK.NS', 'ICICIBANK.NS', 'KOTAKBANK.NS'\n",
    "]\n"
   ]
  },
  {
   "cell_type": "code",
   "execution_count": 7,
   "id": "df5fe1f0",
   "metadata": {},
   "outputs": [],
   "source": [
    "end_date = datetime.today()\n",
    "start_date = end_date - timedelta(days=30)\n"
   ]
  },
  {
   "cell_type": "code",
   "execution_count": 8,
   "id": "4ebb7823",
   "metadata": {},
   "outputs": [
    {
     "name": "stdout",
     "output_type": "stream",
     "text": [
      "Downloading data for RELIANCE.NS...\n",
      "YF.download() has changed argument auto_adjust default to True\n",
      "Downloading data for TCS.NS...\n",
      "Downloading data for INFY.NS...\n",
      "Downloading data for SBIN.NS...\n",
      "Downloading data for ITC.NS...\n",
      "Downloading data for TATAMOTORS.NS...\n",
      "Downloading data for TATAPOWER.NS...\n",
      "Downloading data for HDFCBANK.NS...\n",
      "Downloading data for ICICIBANK.NS...\n",
      "Downloading data for KOTAKBANK.NS...\n"
     ]
    }
   ],
   "source": [
    "stock_data = {}\n",
    "for symbol in nifty_50_stocks:\n",
    "    print(f\"Downloading data for {symbol}...\")\n",
    "    df = yf.download(symbol, start=start_date, end=end_date, interval='1d', progress=False)\n",
    "    stock_data[symbol] = df"
   ]
  },
  {
   "cell_type": "code",
   "execution_count": 9,
   "id": "a03f889f",
   "metadata": {},
   "outputs": [
    {
     "name": "stdout",
     "output_type": "stream",
     "text": [
      "\n",
      "Sample data for RELIANCE.NS:\n",
      "Price             Close         High          Low         Open      Volume\n",
      "Ticker      RELIANCE.NS  RELIANCE.NS  RELIANCE.NS  RELIANCE.NS RELIANCE.NS\n",
      "Date                                                                      \n",
      "2025-05-28  1412.900024  1422.599976  1410.699951  1420.099976     5944611\n",
      "2025-05-29  1417.800049  1420.000000  1408.599976  1412.099976    13771917\n",
      "2025-05-30  1420.900024  1430.599976  1409.699951  1418.000000    13788484\n",
      "2025-06-02  1413.699951  1417.500000  1395.599976  1412.099976     8098668\n",
      "2025-06-03  1405.500000  1426.500000  1403.400024  1422.300049    11252626\n"
     ]
    }
   ],
   "source": [
    "print(\"\\nSample data for RELIANCE.NS:\")\n",
    "print(stock_data['RELIANCE.NS'].tail())"
   ]
  },
  {
   "cell_type": "code",
   "execution_count": 10,
   "id": "aa8a1d6f",
   "metadata": {},
   "outputs": [
    {
     "data": {
      "text/plain": [
       "{'2024-05-01': {'RELIANCE.NS': {'Close': 2900.5},\n",
       "  'TCS.NS': {'Close': 3500.0},\n",
       "  'INFY.NS': {'Close': 1500.0},\n",
       "  'SBIN.NS': {'Close': 600.0},\n",
       "  'ITC.NS': {'Close': 300.0},\n",
       "  'TATAMOTORS.NS': {'Close': 500.0},\n",
       "  'TATAPOWER.NS': {'Close': 250.0},\n",
       "  'HDFCBANK.NS': {'Close': 1600.0},\n",
       "  'ICICIBANK.NS': {'Close': 700.0},\n",
       "  'KOTAKBANK.NS': {'Close': 1800.0}}}"
      ]
     },
     "execution_count": 10,
     "metadata": {},
     "output_type": "execute_result"
    }
   ],
   "source": [
    "{\n",
    "    \"2024-05-01\": {\n",
    "        \"RELIANCE.NS\": { \"Close\": 2900.5 },\n",
    "        \"TCS.NS\": { \"Close\": 3500.0 },\n",
    "        \"INFY.NS\": { \"Close\": 1500.0 },\n",
    "        \"SBIN.NS\": { \"Close\": 600.0 },\n",
    "        \"ITC.NS\": { \"Close\": 300.0 },\n",
    "        \"TATAMOTORS.NS\": { \"Close\": 500.0 },\n",
    "        \"TATAPOWER.NS\": { \"Close\": 250.0 },\n",
    "        \"HDFCBANK.NS\": { \"Close\": 1600.0 },\n",
    "        \"ICICIBANK.NS\": { \"Close\": 700.0 },\n",
    "        \"KOTAKBANK.NS\": { \"Close\": 1800.0 }\n",
    "        \n",
    "    }\n",
    "}\n"
   ]
  },
  {
   "cell_type": "code",
   "execution_count": 11,
   "id": "971a70fa",
   "metadata": {},
   "outputs": [
    {
     "name": "stderr",
     "output_type": "stream",
     "text": [
      "C:\\Users\\Priyanshu kumar\\AppData\\Local\\Temp\\ipykernel_31064\\3546672440.py:14: FutureWarning: Calling int on a single element Series is deprecated and will raise a TypeError in the future. Use int(ser.iloc[0]) instead\n",
      "  \"Volume\": int(row['Volume'])\n"
     ]
    }
   ],
   "source": [
    "organized_data = {}\n",
    "\n",
    "for symbol, df in stock_data.items():\n",
    "    df.dropna(inplace=True)\n",
    "    for date, row in df.iterrows():\n",
    "        date_str = date.strftime('%Y-%m-%d')\n",
    "        if date_str not in organized_data:\n",
    "            organized_data[date_str] = {}\n",
    "        organized_data[date_str][symbol] = {\n",
    "            \"Open\": round(row['Open'], 2),\n",
    "            \"High\": round(row['High'], 2),\n",
    "            \"Low\": round(row['Low'], 2),\n",
    "            \"Close\": round(row['Close'], 2),\n",
    "            \"Volume\": int(row['Volume'])\n",
    "        }\n"
   ]
  },
  {
   "cell_type": "code",
   "execution_count": 12,
   "id": "c6f3734d",
   "metadata": {},
   "outputs": [],
   "source": [
    "def calculate_sma(df, sma_length):\n",
    "    return df['Close'].rolling(window=sma_length).mean()\n"
   ]
  },
  {
   "cell_type": "code",
   "execution_count": null,
   "id": "8cf7acb2",
   "metadata": {},
   "outputs": [
    {
     "name": "stdout",
     "output_type": "stream",
     "text": [
      "Price             Close          SMA\n",
      "Ticker      RELIANCE.NS             \n",
      "Date                                \n",
      "2025-05-28  1412.900024  1431.120007\n",
      "2025-05-29  1417.800049  1427.480017\n",
      "2025-05-30  1420.900024  1423.930017\n",
      "2025-06-02  1413.699951  1421.220007\n",
      "2025-06-03  1405.500000  1419.310010\n"
     ]
    }
   ],
   "source": [
    "sma_length = 10  \n",
    "sample_df = stock_data['RELIANCE.NS']\n",
    "sample_df['SMA'] = calculate_sma(sample_df, sma_length)\n",
    "\n",
    "print(sample_df[['Close', 'SMA']].tail())\n"
   ]
  },
  {
   "cell_type": "code",
   "execution_count": 20,
   "id": "55bfb9d4",
   "metadata": {},
   "outputs": [],
   "source": [
    "from flask import Flask, request, jsonify\n",
    "import yfinance as yf\n",
    "import pandas as pd\n",
    "from datetime import datetime, timedelta\n",
    "\n",
    "app = Flask(__name__)\n",
    "\n",
    "STOCKS = [\n",
    "    'RELIANCE.NS', 'TCS.NS', 'INFY.NS', 'SBIN.NS', 'ITC.NS',\n",
    "    'TATAMOTORS.NS', 'TATAPOWER.NS', 'HDFCBANK.NS', 'ICICIBANK.NS', 'KOTAKBANK.NS'\n",
    "]\n",
    "\n",
    "def calculate_sma(df, sma_length):\n",
    "    return df['Close'].rolling(window=sma_length).mean()\n",
    "\n",
    "@app.route('/market_insight', methods=['POST'])\n",
    "def market_insight():\n",
    "    try:\n",
    "        data = request.get_json()\n",
    "        sma_length = int(data.get('sma_length', 10))  \n",
    "\n",
    "        end_date = datetime.today()\n",
    "        start_date = end_date - timedelta(days=30)\n",
    "        \n",
    "        above_sma = []\n",
    "        below_sma = []\n",
    "\n",
    "        for stock in STOCKS:\n",
    "            df = yf.download(stock, start=start_date, end=end_date, interval='1d', progress=False)\n",
    "            df.dropna(inplace=True)\n",
    "\n",
    "            if len(df) < sma_length:\n",
    "                continue  \n",
    "\n",
    "            df['SMA'] = calculate_sma(df, sma_length)\n",
    "            latest = df.iloc[-1]\n",
    "\n",
    "            \n",
    "            if latest['Close'] > latest['SMA']:\n",
    "                above_sma.append(stock)\n",
    "            else:\n",
    "                below_sma.append(stock)\n",
    "\n",
    "        return jsonify({\n",
    "            \"above_sma\": above_sma,\n",
    "            \"below_sma\": below_sma\n",
    "        })\n",
    "\n",
    "    except Exception as e:\n",
    "        return jsonify({\"error\": str(e)}), 500"
   ]
  }
 ],
 "metadata": {
  "kernelspec": {
   "display_name": ".venv",
   "language": "python",
   "name": "python3"
  },
  "language_info": {
   "codemirror_mode": {
    "name": "ipython",
    "version": 3
   },
   "file_extension": ".py",
   "mimetype": "text/x-python",
   "name": "python",
   "nbconvert_exporter": "python",
   "pygments_lexer": "ipython3",
   "version": "3.12.10"
  }
 },
 "nbformat": 4,
 "nbformat_minor": 5
}
