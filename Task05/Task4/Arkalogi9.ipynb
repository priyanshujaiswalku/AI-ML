{
 "cells": [
  {
   "cell_type": "code",
   "execution_count": 10,
   "id": "78e74f18",
   "metadata": {},
   "outputs": [],
   "source": [
    "import csv\n",
    "\n",
    "data_dict = {\n",
    "    1: {'name': 'Alice', 'age': 30, 'department': 'Engineering'},\n",
    "    2: {'name': 'Bob', 'age': 25, 'department': 'Marketing'},\n",
    "    3: {'name': 'Charlie', 'age': 35, 'department': 'Sales'},\n",
    "    4: {'name': 'Diana', 'age': 28, 'department': 'HR'},\n",
    "    5: {'name': 'Ethan', 'age': 40, 'department': 'Finance'},\n",
    "    6: {'name': 'Fiona', 'age': 32, 'department': 'IT'},\n",
    "    7: {'name': 'George', 'age': 29, 'department': 'Operations'},\n",
    "    8: {'name': 'Hannah', 'age': 27, 'department': 'Customer Service'},\n",
    "    9: {'name': 'Ian', 'age': 31, 'department': 'Legal'},\n",
    "    10: {'name': 'Jasmine', 'age': 26, 'department': 'Research'},\n",
    "    11: {'name': 'Kevin', 'age': 33, 'department': 'Product Management'},\n",
    "    12: {'name': 'Laura', 'age': 34, 'department': 'Business Development'},\n",
    "    13: {'name': 'Mike', 'age': 38, 'department': 'Supply Chain'},\n",
    "    14: {'name': 'Nina', 'age': 36, 'department': 'Quality Assurance'},\n",
    "    15: {'name': 'Oscar', 'age': 39, 'department': 'Administration'},\n",
    "    16: {'name': 'Paula', 'age': 37, 'department': 'Training'},\n",
    "    17: {'name': 'Quentin', 'age': 41, 'department': 'Compliance'},\n",
    "    18: {'name': 'Rachel', 'age': 42, 'department': 'Public Relations'},\n",
    "    19: {'name': 'Sam', 'age': 43, 'department': 'Strategy'},\n",
    "    20: {'name': 'Tina', 'age': 44, 'department': 'Analytics'},\n",
    "    21: {'name': 'Ursula', 'age': 45, 'department': 'Risk Management'},\n",
    "    22: {'name': 'Victor', 'age': 46, 'department': 'Corporate Affairs'}\n",
    "}\n"
   ]
  },
  {
   "cell_type": "code",
   "execution_count": null,
   "id": "2d6763e8",
   "metadata": {},
   "outputs": [
    {
     "name": "stdout",
     "output_type": "stream",
     "text": [
      "CSV file 'employees.csv' has been created with the employee data.\n"
     ]
    }
   ],
   "source": [
    "with open('employees.csv', mode='w', newline='') as file:\n",
    "    writer = csv.writer(file)\n",
    "    \n",
    "    writer.writerow(['id', 'name', 'age', 'department'])\n",
    "\n",
    "\n",
    "    for emp_id, info in data_dict.items():\n",
    "        writer.writerow([emp_id, info['name'], info['age'], info['department']])\n",
    "\n",
    "\n",
    "print(\"CSV file 'employees.csv' has been created with  employee data.\")"
   ]
  },
  {
   "cell_type": "code",
   "execution_count": 19,
   "id": "0bc8b0fa",
   "metadata": {},
   "outputs": [
    {
     "name": "stdout",
     "output_type": "stream",
     "text": [
      "['id', 'name', 'age', 'department']\n",
      "['1', 'Alice', '30', 'Engineering']\n",
      "['2', 'Bob', '25', 'Marketing']\n",
      "['3', 'Charlie', '35', 'Sales']\n",
      "['4', 'Diana', '28', 'HR']\n",
      "['5', 'Ethan', '40', 'Finance']\n",
      "['6', 'Fiona', '32', 'IT']\n",
      "['7', 'George', '29', 'Operations']\n",
      "['8', 'Hannah', '27', 'Customer Service']\n",
      "['9', 'Ian', '31', 'Legal']\n",
      "['10', 'Jasmine', '26', 'Research']\n",
      "['11', 'Kevin', '33', 'Product Management']\n",
      "['12', 'Laura', '34', 'Business Development']\n",
      "['13', 'Mike', '38', 'Supply Chain']\n",
      "['14', 'Nina', '36', 'Quality Assurance']\n",
      "['15', 'Oscar', '39', 'Administration']\n",
      "['16', 'Paula', '37', 'Training']\n",
      "['17', 'Quentin', '41', 'Compliance']\n",
      "['18', 'Rachel', '42', 'Public Relations']\n",
      "['19', 'Sam', '43', 'Strategy']\n",
      "['20', 'Tina', '44', 'Analytics']\n",
      "['21', 'Ursula', '45', 'Risk Management']\n",
      "['22', 'Victor', '46', 'Corporate Affairs']\n"
     ]
    }
   ],
   "source": [
    "with open('employees.csv', mode='r') as file:\n",
    "    reader = csv.reader(file)\n",
    "    for row in reader:\n",
    "        print(row)"
   ]
  }
 ],
 "metadata": {
  "kernelspec": {
   "display_name": ".venv",
   "language": "python",
   "name": "python3"
  },
  "language_info": {
   "codemirror_mode": {
    "name": "ipython",
    "version": 3
   },
   "file_extension": ".py",
   "mimetype": "text/x-python",
   "name": "python",
   "nbconvert_exporter": "python",
   "pygments_lexer": "ipython3",
   "version": "3.12.10"
  }
 },
 "nbformat": 4,
 "nbformat_minor": 5
}
