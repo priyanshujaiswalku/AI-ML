{
 "cells": [
  {
   "cell_type": "code",
   "execution_count": 2,
   "id": "22133e1c",
   "metadata": {},
   "outputs": [
    {
     "name": "stdout",
     "output_type": "stream",
     "text": [
      "Requirement already satisfied: pandas in c:\\users\\priyanshu kumar\\onedrive\\desktop\\arkalogi\\.venv\\lib\\site-packages (2.2.3)\n",
      "Collecting openpyxl\n",
      "  Downloading openpyxl-3.1.5-py2.py3-none-any.whl.metadata (2.5 kB)\n",
      "Requirement already satisfied: numpy>=1.26.0 in c:\\users\\priyanshu kumar\\onedrive\\desktop\\arkalogi\\.venv\\lib\\site-packages (from pandas) (2.2.6)\n",
      "Requirement already satisfied: python-dateutil>=2.8.2 in c:\\users\\priyanshu kumar\\onedrive\\desktop\\arkalogi\\.venv\\lib\\site-packages (from pandas) (2.9.0.post0)\n",
      "Requirement already satisfied: pytz>=2020.1 in c:\\users\\priyanshu kumar\\onedrive\\desktop\\arkalogi\\.venv\\lib\\site-packages (from pandas) (2025.2)\n",
      "Requirement already satisfied: tzdata>=2022.7 in c:\\users\\priyanshu kumar\\onedrive\\desktop\\arkalogi\\.venv\\lib\\site-packages (from pandas) (2025.2)\n",
      "Collecting et-xmlfile (from openpyxl)\n",
      "  Downloading et_xmlfile-2.0.0-py3-none-any.whl.metadata (2.7 kB)\n",
      "Requirement already satisfied: six>=1.5 in c:\\users\\priyanshu kumar\\onedrive\\desktop\\arkalogi\\.venv\\lib\\site-packages (from python-dateutil>=2.8.2->pandas) (1.17.0)\n",
      "Downloading openpyxl-3.1.5-py2.py3-none-any.whl (250 kB)\n",
      "Downloading et_xmlfile-2.0.0-py3-none-any.whl (18 kB)\n",
      "Installing collected packages: et-xmlfile, openpyxl\n",
      "\n",
      "   ---------------------------------------- 0/2 [et-xmlfile]\n",
      "   -------------------- ------------------- 1/2 [openpyxl]\n",
      "   -------------------- ------------------- 1/2 [openpyxl]\n",
      "   -------------------- ------------------- 1/2 [openpyxl]\n",
      "   -------------------- ------------------- 1/2 [openpyxl]\n",
      "   -------------------- ------------------- 1/2 [openpyxl]\n",
      "   -------------------- ------------------- 1/2 [openpyxl]\n",
      "   -------------------- ------------------- 1/2 [openpyxl]\n",
      "   -------------------- ------------------- 1/2 [openpyxl]\n",
      "   -------------------- ------------------- 1/2 [openpyxl]\n",
      "   -------------------- ------------------- 1/2 [openpyxl]\n",
      "   -------------------- ------------------- 1/2 [openpyxl]\n",
      "   -------------------- ------------------- 1/2 [openpyxl]\n",
      "   -------------------- ------------------- 1/2 [openpyxl]\n",
      "   -------------------- ------------------- 1/2 [openpyxl]\n",
      "   -------------------- ------------------- 1/2 [openpyxl]\n",
      "   -------------------- ------------------- 1/2 [openpyxl]\n",
      "   -------------------- ------------------- 1/2 [openpyxl]\n",
      "   -------------------- ------------------- 1/2 [openpyxl]\n",
      "   -------------------- ------------------- 1/2 [openpyxl]\n",
      "   -------------------- ------------------- 1/2 [openpyxl]\n",
      "   -------------------- ------------------- 1/2 [openpyxl]\n",
      "   -------------------- ------------------- 1/2 [openpyxl]\n",
      "   -------------------- ------------------- 1/2 [openpyxl]\n",
      "   -------------------- ------------------- 1/2 [openpyxl]\n",
      "   -------------------- ------------------- 1/2 [openpyxl]\n",
      "   -------------------- ------------------- 1/2 [openpyxl]\n",
      "   -------------------- ------------------- 1/2 [openpyxl]\n",
      "   -------------------- ------------------- 1/2 [openpyxl]\n",
      "   -------------------- ------------------- 1/2 [openpyxl]\n",
      "   -------------------- ------------------- 1/2 [openpyxl]\n",
      "   -------------------- ------------------- 1/2 [openpyxl]\n",
      "   -------------------- ------------------- 1/2 [openpyxl]\n",
      "   -------------------- ------------------- 1/2 [openpyxl]\n",
      "   -------------------- ------------------- 1/2 [openpyxl]\n",
      "   -------------------- ------------------- 1/2 [openpyxl]\n",
      "   -------------------- ------------------- 1/2 [openpyxl]\n",
      "   -------------------- ------------------- 1/2 [openpyxl]\n",
      "   -------------------- ------------------- 1/2 [openpyxl]\n",
      "   -------------------- ------------------- 1/2 [openpyxl]\n",
      "   -------------------- ------------------- 1/2 [openpyxl]\n",
      "   -------------------- ------------------- 1/2 [openpyxl]\n",
      "   -------------------- ------------------- 1/2 [openpyxl]\n",
      "   -------------------- ------------------- 1/2 [openpyxl]\n",
      "   ---------------------------------------- 2/2 [openpyxl]\n",
      "\n",
      "Successfully installed et-xmlfile-2.0.0 openpyxl-3.1.5\n"
     ]
    }
   ],
   "source": [
    "! pip install pandas openpyxl\n"
   ]
  },
  {
   "cell_type": "code",
   "execution_count": 3,
   "id": "05d9fd1a",
   "metadata": {},
   "outputs": [],
   "source": [
    "import pandas as pd\n",
    "import numpy as np"
   ]
  },
  {
   "cell_type": "code",
   "execution_count": 4,
   "id": "78211e67",
   "metadata": {},
   "outputs": [],
   "source": [
    "df = pd.read_excel('task_02.xlsx')"
   ]
  },
  {
   "cell_type": "code",
   "execution_count": 5,
   "id": "3b8560e9",
   "metadata": {},
   "outputs": [],
   "source": [
    "df['profit_per_trade'] = (df['exit_price'] - df['entry_price']) * df['qty']"
   ]
  },
  {
   "cell_type": "code",
   "execution_count": 6,
   "id": "aa98093c",
   "metadata": {},
   "outputs": [],
   "source": [
    "df.loc[df['side'] == 'SELL', 'profit_per_trade'] = (df['entry_price'] - df['exit_price']) * df['qty']"
   ]
  },
  {
   "cell_type": "code",
   "execution_count": 7,
   "id": "2edf7c18",
   "metadata": {},
   "outputs": [
    {
     "name": "stdout",
     "output_type": "stream",
     "text": [
      "                    symbol  entry_price  exit_price  qty side  \\\n",
      "0  BANKNIFTY30JAN2548000PE       100.75      108.95   75  BUY   \n",
      "1  BANKNIFTY30JAN2553000CE       338.90      334.90   75  BUY   \n",
      "2  BANKNIFTY30JAN2549000PE       219.00      202.55   75  BUY   \n",
      "3  BANKNIFTY30JAN2548000PE       101.20      102.05   75  BUY   \n",
      "4  BANKNIFTY30JAN2549000PE       205.90      196.65   75  BUY   \n",
      "\n",
      "   profit_per_trade  \n",
      "0            615.00  \n",
      "1           -300.00  \n",
      "2          -1233.75  \n",
      "3             63.75  \n",
      "4           -693.75  \n"
     ]
    }
   ],
   "source": [
    "print(df[['symbol', 'entry_price', 'exit_price', 'qty', 'side', 'profit_per_trade']].head())"
   ]
  },
  {
   "cell_type": "code",
   "execution_count": 9,
   "id": "62f068e7",
   "metadata": {},
   "outputs": [],
   "source": [
    "df.to_excel('task_02_with_profit.xlsx', index=False)"
   ]
  },
  {
   "cell_type": "code",
   "execution_count": 10,
   "id": "55cdae51",
   "metadata": {},
   "outputs": [],
   "source": [
    "import pandas as pd"
   ]
  },
  {
   "cell_type": "code",
   "execution_count": 11,
   "id": "2c7ab00c",
   "metadata": {},
   "outputs": [],
   "source": [
    "df = pd.read_excel('task_02.xlsx')"
   ]
  },
  {
   "cell_type": "code",
   "execution_count": 12,
   "id": "33b72d34",
   "metadata": {},
   "outputs": [],
   "source": [
    "df['pnl'] = (df['exit_price'] - df['entry_price']) * df['qty']\n",
    "df.loc[df['side'] == 'SELL', 'pnl'] = (df['entry_price'] - df['exit_price']) * df['qty']"
   ]
  },
  {
   "cell_type": "code",
   "execution_count": 13,
   "id": "bc4ff5cb",
   "metadata": {},
   "outputs": [],
   "source": [
    "df['pnl'] = df['pnl'].round(2)"
   ]
  },
  {
   "cell_type": "code",
   "execution_count": 14,
   "id": "e18561da",
   "metadata": {},
   "outputs": [
    {
     "name": "stdout",
     "output_type": "stream",
     "text": [
      "                    symbol  entry_price  exit_price  qty side      pnl\n",
      "0  BANKNIFTY30JAN2548000PE       100.75      108.95   75  BUY   615.00\n",
      "1  BANKNIFTY30JAN2553000CE       338.90      334.90   75  BUY  -300.00\n",
      "2  BANKNIFTY30JAN2549000PE       219.00      202.55   75  BUY -1233.75\n",
      "3  BANKNIFTY30JAN2548000PE       101.20      102.05   75  BUY    63.75\n",
      "4  BANKNIFTY30JAN2549000PE       205.90      196.65   75  BUY  -693.75\n"
     ]
    }
   ],
   "source": [
    "print(df[['symbol', 'entry_price', 'exit_price', 'qty', 'side', 'pnl']].head())"
   ]
  },
  {
   "cell_type": "code",
   "execution_count": 15,
   "id": "f4fc6e5d",
   "metadata": {},
   "outputs": [],
   "source": [
    "df.to_excel('task_02_with_pnl.xlsx', index=False)"
   ]
  },
  {
   "cell_type": "code",
   "execution_count": 16,
   "id": "0dca771f",
   "metadata": {},
   "outputs": [],
   "source": [
    "import pandas as pd"
   ]
  },
  {
   "cell_type": "code",
   "execution_count": 17,
   "id": "a690e8cf",
   "metadata": {},
   "outputs": [],
   "source": [
    "df = pd.read_excel('task_02.xlsx')"
   ]
  },
  {
   "cell_type": "code",
   "execution_count": 18,
   "id": "789818e6",
   "metadata": {},
   "outputs": [],
   "source": [
    "df['side'] = df['side'].str.upper()"
   ]
  },
  {
   "cell_type": "code",
   "execution_count": 20,
   "id": "05cf5378",
   "metadata": {},
   "outputs": [],
   "source": [
    "# Long Trade (BUY): Profit = (Exit - Entry) * Qt\n",
    "# Short Trade (SELL): Profit = (Entry - Exit) * Qt\n",
    "df['pnl'] = df.apply(\n",
    "    lambda row: (row['exit_price'] - row['entry_price']) * row['qty']\n",
    "    if row['side'] == 'BUY'\n",
    "    else (row['entry_price'] - row['exit_price']) * row['qty'],\n",
    "    axis=1\n",
    ")\n"
   ]
  },
  {
   "cell_type": "code",
   "execution_count": 21,
   "id": "8a8764a2",
   "metadata": {},
   "outputs": [],
   "source": [
    "df['pnl'] = df['pnl'].round(2)\n",
    "df.to_excel('task_02_with_pnl.xlsx', index=False)"
   ]
  },
  {
   "cell_type": "code",
   "execution_count": 22,
   "id": "b3ad7a69",
   "metadata": {},
   "outputs": [
    {
     "name": "stdout",
     "output_type": "stream",
     "text": [
      "                    symbol side  entry_price  exit_price  qty      pnl\n",
      "0  BANKNIFTY30JAN2548000PE  BUY       100.75      108.95   75   615.00\n",
      "1  BANKNIFTY30JAN2553000CE  BUY       338.90      334.90   75  -300.00\n",
      "2  BANKNIFTY30JAN2549000PE  BUY       219.00      202.55   75 -1233.75\n",
      "3  BANKNIFTY30JAN2548000PE  BUY       101.20      102.05   75    63.75\n",
      "4  BANKNIFTY30JAN2549000PE  BUY       205.90      196.65   75  -693.75\n"
     ]
    }
   ],
   "source": [
    "print(df[['symbol', 'side', 'entry_price', 'exit_price', 'qty', 'pnl']].head())"
   ]
  },
  {
   "cell_type": "code",
   "execution_count": 32,
   "id": "95df6c83",
   "metadata": {},
   "outputs": [],
   "source": [
    "import pandas as pd\n",
    "\n",
    "df = pd.read_excel('task_02.xlsx')\n",
    "\n",
    "df['entry_date'] = pd.to_datetime(df['entry_date'].astype(str), format='%y%m%d')\n",
    "\n"
   ]
  },
  {
   "cell_type": "code",
   "execution_count": 33,
   "id": "bfeaee62",
   "metadata": {},
   "outputs": [],
   "source": [
    "df['pnl'] = df.apply(\n",
    "    lambda row: (row['exit_price'] - row['entry_price']) * row['qty']\n",
    "    if row['side'] == 'BUY'\n",
    "    else (row['entry_price'] - row['exit_price']) * row['qty'],\n",
    "    axis=1\n",
    ")\n",
    "\n",
    "df = df.sort_values(by=['entry_date', 'entry_time'])\n",
    "\n",
    "df['cumulative_pnl'] = df['pnl'].cumsum()\n"
   ]
  },
  {
   "cell_type": "code",
   "execution_count": null,
   "id": "95aef53a",
   "metadata": {},
   "outputs": [],
   "source": [
    "df['cum_max'] = df['cumulative_pnl'].cummax()\n",
    "\n",
    "df['drawdown'] = df['cumulative_pnl'] - df['cum_max']\n",
    "df['drawdown_pct'] = (df['drawdown'] / df['cum_max']) * 100\n"
   ]
  },
  {
   "cell_type": "code",
   "execution_count": 35,
   "id": "2c666d0b",
   "metadata": {},
   "outputs": [
    {
     "name": "stdout",
     "output_type": "stream",
     "text": [
      "Max Drawdown: ₹-58275.00\n",
      "Max Drawdown (%): -9475.61%\n"
     ]
    }
   ],
   "source": [
    "df.to_excel('task_02_with_drawdown.xlsx', index=False)\n",
    "\n",
    "max_drawdown = df['drawdown'].min()\n",
    "max_drawdown_pct = df['drawdown_pct'].min()\n",
    "\n",
    "print(f\"Max Drawdown: ₹{max_drawdown:.2f}\")\n",
    "print(f\"Max Drawdown (%): {max_drawdown_pct:.2f}%\")\n"
   ]
  }
 ],
 "metadata": {
  "kernelspec": {
   "display_name": ".venv",
   "language": "python",
   "name": "python3"
  },
  "language_info": {
   "codemirror_mode": {
    "name": "ipython",
    "version": 3
   },
   "file_extension": ".py",
   "mimetype": "text/x-python",
   "name": "python",
   "nbconvert_exporter": "python",
   "pygments_lexer": "ipython3",
   "version": "3.12.10"
  }
 },
 "nbformat": 4,
 "nbformat_minor": 5
}
