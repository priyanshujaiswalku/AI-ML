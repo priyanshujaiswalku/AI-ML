{
 "cells": [
  {
   "cell_type": "code",
   "execution_count": null,
   "id": "73ff8189",
   "metadata": {},
   "outputs": [
    {
     "name": "stdout",
     "output_type": "stream",
     "text": [
      "✅ Metrics saved to result.csv\n",
      "✅ Top 5 profit trades saved to top_5_profits.csv\n"
     ]
    }
   ],
   "source": [
    "import pandas as pd\n",
    "df = pd.read_excel('task_02.xlsx')\n",
    "\n",
    "df['entry_date'] = pd.to_datetime(df['entry_date'].astype(str), format='%y%m%d')\n",
    "df = df.sort_values(by=['entry_date', 'entry_time'])\n",
    "\n",
    "df['pnl'] = df.apply(\n",
    "    lambda row: (row['exit_price'] - row['entry_price']) * row['qty']\n",
    "    if row['side'] == 'BUY'\n",
    "    else (row['entry_price'] - row['exit_price']) * row['qty'],\n",
    "    axis=1\n",
    ")\n",
    "df['pnl'] = df['pnl'].round(2)\n",
    "\n",
    "# -------------------------------\n",
    "# Metrics Calculation\n",
    "# -------------------------------\n",
    "\n",
    "# 1. Average profit per trade\n",
    "avg_profit = df['pnl'].mean()\n",
    "\n",
    "# 2. Top 5 trades with max profit\n",
    "top_5_profits = df.nlargest(5, 'pnl')\n",
    "\n",
    "# 3. Cumulative PnL and Drawdown\n",
    "df['cumulative_pnl'] = df['pnl'].cumsum()\n",
    "df['cum_max'] = df['cumulative_pnl'].cummax()\n",
    "df['drawdown'] = df['cumulative_pnl'] - df['cum_max']\n",
    "df['drawdown_pct'] = (df['drawdown'] / df['cum_max'].replace(0, 1)) * 100\n",
    "\n",
    "# Max drawdown values\n",
    "max_drawdown = df['drawdown'].min()\n",
    "max_drawdown_pct = df['drawdown_pct'].min()\n",
    "\n",
    "# 4. Win/Loss metrics\n",
    "total_trades = len(df)\n",
    "winning_trades = (df['pnl'] > 0).sum()\n",
    "losing_trades = (df['pnl'] <= 0).sum()\n",
    "total_profit = df['pnl'].sum()\n",
    "\n",
    "# -------------------------------\n",
    "# Save metrics summary\n",
    "# -------------------------------\n",
    "\n",
    "summary = pd.DataFrame({\n",
    "    'Metric': [\n",
    "        'Average Profit per Trade',\n",
    "        'Max Drawdown',\n",
    "        'Max Drawdown (%)',\n",
    "        'Total Trades',\n",
    "        'Winning Trades',\n",
    "        'Losing Trades',\n",
    "        'Net Profit/Loss'\n",
    "    ],\n",
    "    'Value': [\n",
    "        round(avg_profit, 2),\n",
    "        round(max_drawdown, 2),\n",
    "        f\"{round(max_drawdown_pct, 2)}%\",\n",
    "        total_trades,\n",
    "        winning_trades,\n",
    "        losing_trades,\n",
    "        round(total_profit, 2)\n",
    "    ]\n",
    "})\n",
    "\n",
    "summary.to_csv('result.csv', index=False)\n",
    "\n",
    "top_5_profits.to_csv('top_5_profits.csv', index=False)\n",
    "\n",
    "print(\"✅ Metrics saved to result.csv\")\n",
    "print(\"✅ Top 5 profit trades saved to top_5_profits.csv\")\n"
   ]
  }
 ],
 "metadata": {
  "kernelspec": {
   "display_name": ".venv",
   "language": "python",
   "name": "python3"
  },
  "language_info": {
   "codemirror_mode": {
    "name": "ipython",
    "version": 3
   },
   "file_extension": ".py",
   "mimetype": "text/x-python",
   "name": "python",
   "nbconvert_exporter": "python",
   "pygments_lexer": "ipython3",
   "version": "3.12.10"
  }
 },
 "nbformat": 4,
 "nbformat_minor": 5
}
