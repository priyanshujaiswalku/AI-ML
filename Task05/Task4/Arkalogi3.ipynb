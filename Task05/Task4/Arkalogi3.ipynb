{
 "cells": [
  {
   "cell_type": "code",
   "execution_count": 1,
   "id": "f7ce8b3c",
   "metadata": {},
   "outputs": [],
   "source": [
    "import requests"
   ]
  },
  {
   "cell_type": "code",
   "execution_count": 2,
   "id": "33f9ef2e",
   "metadata": {},
   "outputs": [
    {
     "name": "stdout",
     "output_type": "stream",
     "text": [
      "              tradingsymbol   date\n",
      "48260         NIFTY25MAYFUT  25may\n",
      "48261         NIFTY25JUNFUT  25jun\n",
      "48262         NIFTY25JULFUT  25jul\n",
      "48263     BANKNIFTY25MAYFUT  25may\n",
      "48264     BANKNIFTY25JUNFUT  25jun\n",
      "...                     ...    ...\n",
      "86604   ZYDUSLIFE25JUL980PE  25jul\n",
      "86605  ZYDUSLIFE25JUL1000CE  25jul\n",
      "86606  ZYDUSLIFE25JUL1000PE  25jul\n",
      "86607  ZYDUSLIFE25JUL1040CE  25jul\n",
      "86608  ZYDUSLIFE25JUL1040PE  25jul\n",
      "\n",
      "[38349 rows x 2 columns]\n"
     ]
    }
   ],
   "source": [
    "import requests\n",
    "import pandas as pd\n",
    "import csv\n",
    "from io import StringIO\n",
    "import os\n",
    "from datetime import datetime\n",
    "\n",
    "\n",
    "\n",
    "df=pd.read_csv('nse_master_raw.csv')\n",
    "df1=df[df['exchange'].str.contains(\"NFO\", na=False)]\n",
    "\n",
    "s=('PE','CE','FUT')\n",
    "df2=df1[df1['tradingsymbol'].str.endswith(s)]\n",
    "df2\n",
    "\n",
    "\n",
    "months = ['jan', 'feb', 'mar', 'apr', 'may', 'jun', \n",
    "          'jul', 'aug', 'sep', 'oct', 'nov', 'dec']\n",
    "\n",
    "def extract_date(text):\n",
    "    text = text.lower()\n",
    "    for month in months:\n",
    "        idx = text.find(month)\n",
    "        if idx != -1:\n",
    "            \n",
    "            i = idx - 1\n",
    "            digits = ''\n",
    "            while i >= 0 and text[i].isdigit():\n",
    "                digits = text[i] + digits\n",
    "                i -= 1\n",
    "            if digits:\n",
    "                return digits + month\n",
    "    return None\n",
    "\n",
    "df2['date'] = df2['tradingsymbol'].apply(extract_date)\n",
    "print(df2[['tradingsymbol','date']])\n",
    "\n",
    "df2.to_csv('filtered_contracts_with_date.csv', index=False)\n",
    "\n"
   ]
  }
 ],
 "metadata": {
  "kernelspec": {
   "display_name": ".venv",
   "language": "python",
   "name": "python3"
  },
  "language_info": {
   "codemirror_mode": {
    "name": "ipython",
    "version": 3
   },
   "file_extension": ".py",
   "mimetype": "text/x-python",
   "name": "python",
   "nbconvert_exporter": "python",
   "pygments_lexer": "ipython3",
   "version": "3.12.10"
  }
 },
 "nbformat": 4,
 "nbformat_minor": 5
}
